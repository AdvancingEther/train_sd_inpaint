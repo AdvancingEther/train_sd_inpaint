{
 "cells": [
  {
   "cell_type": "code",
   "execution_count": 1,
   "id": "dcfa99e4-a3a4-496e-bd49-42025e5010b7",
   "metadata": {},
   "outputs": [
    {
     "data": {
      "application/vnd.jupyter.widget-view+json": {
       "model_id": "c0cd27d4bd304fc18048524732d4ee3a",
       "version_major": 2,
       "version_minor": 0
      },
      "text/plain": [
       "Loading pipeline components...:   0%|          | 0/6 [00:00<?, ?it/s]"
      ]
     },
     "metadata": {},
     "output_type": "display_data"
    },
    {
     "name": "stderr",
     "output_type": "stream",
     "text": [
      "/root/miniconda3/envs/diffusers/lib/python3.10/site-packages/transformers/tokenization_utils_base.py:1601: FutureWarning: `clean_up_tokenization_spaces` was not set. It will be set to `True` by default. This behavior will be depracted in transformers v4.45, and will be then set to `False` by default. For more details check this issue: https://github.com/huggingface/transformers/issues/31884\n",
      "  warnings.warn(\n",
      "/root/miniconda3/envs/diffusers/lib/python3.10/site-packages/torch/storage.py:414: FutureWarning: You are using `torch.load` with `weights_only=False` (the current default value), which uses the default pickle module implicitly. It is possible to construct malicious pickle data which will execute arbitrary code during unpickling (See https://github.com/pytorch/pytorch/blob/main/SECURITY.md#untrusted-models for more details). In a future release, the default value for `weights_only` will be flipped to `True`. This limits the functions that could be executed during unpickling. Arbitrary objects will no longer be allowed to be loaded via this mode unless they are explicitly allowlisted by the user via `torch.serialization.add_safe_globals`. We recommend you start setting `weights_only=True` for any use case where you don't have full control of the loaded file. Please open an issue on GitHub for any issues related to this experimental feature.\n",
      "  return torch.load(io.BytesIO(b))\n"
     ]
    }
   ],
   "source": [
    "from torch.utils.data import Dataset,DataLoader\n",
    "from torchvision.transforms import transforms\n",
    "import pickle\n",
    "import torch\n",
    "from diffusers import StableDiffusionInpaintPipeline\n",
    "\n",
    "\n",
    "class HcInpaintDataset(Dataset):\n",
    "    def ct_transform(self,ct):\n",
    "        transform = transforms.Compose([\n",
    "        transforms.Normalize(mean=[0.5, 0.5, 0.5], std=[0.5, 0.5, 0.5]),\n",
    "    ])\n",
    "        tensor = transform(ct)\n",
    "\n",
    "        return tensor\n",
    "\n",
    "\n",
    "    def __init__(self,data_path,tokenizer,ct_transform=False):\n",
    "        super().__init__()\n",
    "        with open(data_path,'rb') as file:\n",
    "            dataset = pickle.load(file) # 不加self. 节省内存？\n",
    "\n",
    "        self.origin_imgs = dataset['pixel values']\n",
    "        self.prompts = dataset['class labels']\n",
    "        self.masks = dataset['mask labels']\n",
    "\n",
    "        self.ct_transform = ct_transform if ct_transform != False else transforms.Lambda(lambda x: x)\n",
    "\n",
    "        self.tokenizer = tokenizer\n",
    "\n",
    "        \n",
    "    def __len__(self):\n",
    "        return len(self.origin_imgs)\n",
    "    \n",
    "    def __getitem__(self, index): # 返回一次取出的数据 试试直接用batch\n",
    "        example = {}\n",
    "\n",
    "        origin_img = self.origin_imgs[index] #(512,512 float32)\n",
    "        mask = self.masks[index].to(torch.float32) #(512,512 uint8)\n",
    "        input_id = self.tokenizer(self.prompts[index],\n",
    "                                  max_length=20,\n",
    "                                  padding=\"max_length\",\n",
    "                                  truncation=True,\n",
    "                                  return_tensors=\"pt\").input_ids\n",
    "\n",
    "        masked_img = origin_img * (mask<0.5)\n",
    "\n",
    "        example[\"masked_img\"] = self.ct_transform(torch.stack([masked_img] * 3, dim=0))\n",
    "        example[\"origin_img\"] = self.ct_transform(torch.stack([origin_img] * 3, dim=0))\n",
    "        example[\"mask\"] = mask.view(1,512,512)\n",
    "        example[\"input_id\"] = input_id\n",
    "\n",
    "        return example\n",
    "\n",
    "pipe = StableDiffusionInpaintPipeline.from_pretrained(\"/root/autodl-tmp/stabilityai/stable-diffusion-2-inpainting\")\n",
    "tokenizer = pipe.tokenizer\n",
    "val_dataset = HcInpaintDataset(data_path= \"/root/autodl-tmp/dataset/val_HC_dataset.pkl\",tokenizer=tokenizer,ct_transform=False)\n",
    "\n",
    "val_loader = DataLoader(dataset=val_dataset,batch_size=4, shuffle=True)"
   ]
  },
  {
   "cell_type": "code",
   "execution_count": 4,
   "id": "208897a0-a729-4908-b1a7-5f5d59861fd6",
   "metadata": {},
   "outputs": [],
   "source": [
    "batch = next(iter(val_loader))\n",
    "\n",
    "masks = batch[\"mask\"]\n",
    "\n"
   ]
  },
  {
   "cell_type": "code",
   "execution_count": 5,
   "id": "603855c6-e72f-415e-b729-74eccbbd23a2",
   "metadata": {},
   "outputs": [
    {
     "data": {
      "text/plain": [
       "torch.Size([4, 1, 512, 512])"
      ]
     },
     "execution_count": 5,
     "metadata": {},
     "output_type": "execute_result"
    }
   ],
   "source": [
    "masks.shape"
   ]
  },
  {
   "cell_type": "code",
   "execution_count": 11,
   "id": "ae859e84-b641-4638-937c-fac214f3dbb2",
   "metadata": {},
   "outputs": [
    {
     "data": {
      "text/plain": [
       "torch.Size([4, 1, 20])"
      ]
     },
     "execution_count": 11,
     "metadata": {},
     "output_type": "execute_result"
    }
   ],
   "source": [
    "batch[\"input_id\"].shape"
   ]
  },
  {
   "cell_type": "code",
   "execution_count": null,
   "id": "de793e98-87f7-485b-9935-7768113ed4b2",
   "metadata": {},
   "outputs": [],
   "source": [
    "vae = pipe.vae\n",
    "vae.config"
   ]
  },
  {
   "cell_type": "code",
   "execution_count": 12,
   "id": "6c06e981-a5d4-498d-92f1-65d58774123e",
   "metadata": {},
   "outputs": [
    {
     "ename": "NameError",
     "evalue": "name 'vae' is not defined",
     "output_type": "error",
     "traceback": [
      "\u001b[0;31m---------------------------------------------------------------------------\u001b[0m",
      "\u001b[0;31mNameError\u001b[0m                                 Traceback (most recent call last)",
      "Cell \u001b[0;32mIn[12], line 1\u001b[0m\n\u001b[0;32m----> 1\u001b[0m latents \u001b[38;5;241m=\u001b[39m \u001b[43mvae\u001b[49m\u001b[38;5;241m.\u001b[39mencode(batch[\u001b[38;5;124m\"\u001b[39m\u001b[38;5;124morigin_img\u001b[39m\u001b[38;5;124m\"\u001b[39m])\u001b[38;5;241m.\u001b[39mlatent_dist\u001b[38;5;241m.\u001b[39msample()\n\u001b[1;32m      2\u001b[0m latents \u001b[38;5;241m=\u001b[39m latents \u001b[38;5;241m*\u001b[39m vae\u001b[38;5;241m.\u001b[39mconfig\u001b[38;5;241m.\u001b[39mscaling_factor\n\u001b[1;32m      4\u001b[0m masked_latents \u001b[38;5;241m=\u001b[39m vae\u001b[38;5;241m.\u001b[39mencode(batch[\u001b[38;5;124m\"\u001b[39m\u001b[38;5;124mmasked_imgs\u001b[39m\u001b[38;5;124m\"\u001b[39m])\u001b[38;5;241m.\u001b[39mlatent_dist\u001b[38;5;241m.\u001b[39msample()\n",
      "\u001b[0;31mNameError\u001b[0m: name 'vae' is not defined"
     ]
    }
   ],
   "source": [
    "\n",
    "\n",
    "latents = vae.encode(batch[\"origin_img\"]).latent_dist.sample()\n",
    "latents = latents * vae.config.scaling_factor\n",
    "\n",
    "masked_latents = vae.encode(batch[\"masked_imgs\"]).latent_dist.sample()\n",
    "masked_latents = masked_latents * vae.config.scaling_factor\n",
    "\n",
    "masks = batch[\"masks\"]"
   ]
  },
  {
   "cell_type": "code",
   "execution_count": null,
   "id": "a171a6db-0824-446d-ba2e-38ee9fd3af4b",
   "metadata": {},
   "outputs": [],
   "source": []
  }
 ],
 "metadata": {
  "kernelspec": {
   "display_name": "diffusers",
   "language": "python",
   "name": "diffusers"
  },
  "language_info": {
   "codemirror_mode": {
    "name": "ipython",
    "version": 3
   },
   "file_extension": ".py",
   "mimetype": "text/x-python",
   "name": "python",
   "nbconvert_exporter": "python",
   "pygments_lexer": "ipython3",
   "version": "3.10.14"
  }
 },
 "nbformat": 4,
 "nbformat_minor": 5
}
